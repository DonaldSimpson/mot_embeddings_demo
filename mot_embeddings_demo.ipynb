{
 "cells": [
  {
   "cell_type": "markdown",
   "id": "2a0a5d42",
   "metadata": {},
   "source": [
    "\n",
    "# MOT Defect Embeddings Demo with MiniLM\n",
    "\n",
    "Author: Donald Simpson  \n",
    "Data: Contains public sector information licensed under the [Open Government Licence v3.0](https://www.nationalarchives.gov.uk/doc/open-government-licence/version/3/)\n",
    "\n",
    "This notebook shows how to:\n",
    "- Convert MOT defect notes into embeddings using MiniLM\n",
    "- Cluster similar defects\n",
    "- Run a simple semantic search query\n",
    "\n",
    "[![Open In Colab](https://colab.research.google.com/assets/colab-badge.svg)](https://colab.research.google.com/github/DonaldSimpson/mot_embeddings_demo/blob/main/mot_embeddings_demo.ipynb)\n"
   ]
  },
  {
   "cell_type": "code",
   "execution_count": null,
   "id": "66fe880d",
   "metadata": {},
   "outputs": [],
   "source": [
    "\n",
    "# Install dependencies (uncomment if running in Colab)\n",
    "# !pip install sentence-transformers scikit-learn matplotlib\n"
   ]
  },
  {
   "cell_type": "code",
   "execution_count": null,
   "id": "ffd1ee0b",
   "metadata": {},
   "outputs": [],
   "source": [
    "\n",
    "from sentence_transformers import SentenceTransformer\n",
    "from sklearn.cluster import KMeans\n",
    "from sklearn.decomposition import PCA\n",
    "from sklearn.metrics.pairwise import cosine_similarity\n",
    "import matplotlib.pyplot as plt\n",
    "import numpy as np\n"
   ]
  },
  {
   "cell_type": "markdown",
   "id": "17cf17e0",
   "metadata": {},
   "source": [
    "## Sample MOT defect notes\n",
    "A small subset for demonstration purposes."
   ]
  },
  {
   "cell_type": "code",
   "execution_count": null,
   "id": "54a3c976",
   "metadata": {},
   "outputs": [],
   "source": [
    "\n",
    "notes = [\n",
    "    \"Nearside rear brake pipe corroded\",\n",
    "    \"Brake hose deteriorated\",\n",
    "    \"Brakes imbalanced across an axle\",\n",
    "    \"Headlamp aim too high\",\n",
    "    \"Exhaust leaking gases\",\n",
    "    \"Offside front tyre worn close to legal limit\",\n",
    "    \"Nearside rear suspension arm corroded\",\n",
    "    \"Steering rack gaiter damaged\",\n",
    "    \"Nearside rear brake hose perished\",\n",
    "    \"Excessive play in steering column\"\n",
    "]\n"
   ]
  },
  {
   "cell_type": "markdown",
   "id": "ce62ca71",
   "metadata": {},
   "source": [
    "## Generate embeddings with MiniLM"
   ]
  },
  {
   "cell_type": "code",
   "execution_count": null,
   "id": "b259acf5",
   "metadata": {},
   "outputs": [],
   "source": [
    "\n",
    "model = SentenceTransformer(\"all-MiniLM-L6-v2\")\n",
    "embeddings = model.encode(notes)\n",
    "print(f\"Generated embeddings: {embeddings.shape}\")\n"
   ]
  },
  {
   "cell_type": "markdown",
   "id": "512ad2f1",
   "metadata": {},
   "source": [
    "## Clustering defects with KMeans\n",
    "We cluster the embeddings and visualise them in 2D with PCA."
   ]
  },
  {
   "cell_type": "code",
   "execution_count": null,
   "id": "e88b1e96",
   "metadata": {},
   "outputs": [],
   "source": [
    "\n",
    "kmeans = KMeans(n_clusters=3, random_state=42)\n",
    "labels = kmeans.fit_predict(embeddings)\n",
    "\n",
    "pca = PCA(n_components=2)\n",
    "reduced = pca.fit_transform(embeddings)\n",
    "\n",
    "plt.figure(figsize=(8,6))\n",
    "plt.scatter(reduced[:,0], reduced[:,1], c=labels, cmap=\"viridis\")\n",
    "for i, txt in enumerate(notes):\n",
    "    plt.annotate(txt, (reduced[i,0]+0.01, reduced[i,1]+0.01), fontsize=8)\n",
    "plt.title(\"Clustering MOT Defect Notes with MiniLM Embeddings\")\n",
    "plt.show()\n"
   ]
  },
  {
   "cell_type": "markdown",
   "id": "468a779c",
   "metadata": {},
   "source": [
    "## Semantic search\n",
    "Find defects most similar to a query."
   ]
  },
  {
   "cell_type": "code",
   "execution_count": null,
   "id": "31e96ab4",
   "metadata": {},
   "outputs": [],
   "source": [
    "\n",
    "query = \"brake failure\"\n",
    "qvec = model.encode([query])\n",
    "sims = cosine_similarity(qvec, embeddings)[0]\n",
    "\n",
    "print(f\"Top matches for query: '{query}'\\n\")\n",
    "top = np.argsort(-sims)[:5]\n",
    "for i in top:\n",
    "    print(f\"{notes[i]} (similarity {sims[i]:.2f})\")\n"
   ]
  }
 ],
 "metadata": {},
 "nbformat": 4,
 "nbformat_minor": 5
}
